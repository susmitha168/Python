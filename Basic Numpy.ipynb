{
 "cells": [
  {
   "cell_type": "markdown",
   "metadata": {},
   "source": [
    "### Problem 1 : Add two randomly generated NumPy matrices using loops \n",
    "Exercise: Add two randomly generated NumPy 3D-matrices(tensor) using loops"
   ]
  },
  {
   "cell_type": "code",
   "execution_count": 4,
   "metadata": {},
   "outputs": [
    {
     "name": "stdout",
     "output_type": "stream",
     "text": [
      "[[[0.03816047 0.10565558 0.21158239]\n",
      "  [0.72045949 0.07034381 0.05727733]\n",
      "  [0.24809731 0.81349548 0.84068659]]\n",
      "\n",
      " [[0.17430487 0.37772449 0.13869505]\n",
      "  [0.48878483 0.77858192 0.64964487]\n",
      "  [0.50394311 0.52245373 0.96826061]]\n",
      "\n",
      " [[0.71604037 0.6747494  0.68152737]\n",
      "  [0.40273761 0.87468811 0.47745767]\n",
      "  [0.01728933 0.37190164 0.75606011]]]\n"
     ]
    }
   ],
   "source": [
    "import numpy as np\n",
    "A1 = np.random.rand(3,3,3)\n",
    "print(A1)"
   ]
  },
  {
   "cell_type": "code",
   "execution_count": 10,
   "metadata": {},
   "outputs": [
    {
     "name": "stdout",
     "output_type": "stream",
     "text": [
      "[[[0.84117138 0.52178274 0.10229022]\n",
      "  [0.14570154 0.13646954 0.6029956 ]\n",
      "  [0.53850533 0.62957037 0.90673076]]\n",
      "\n",
      " [[0.02280706 0.18437768 0.76820884]\n",
      "  [0.27804227 0.08966723 0.1750601 ]\n",
      "  [0.04668165 0.90061943 0.85744274]]\n",
      "\n",
      " [[0.27873425 0.83471533 0.54863843]\n",
      "  [0.09951885 0.51120455 0.10933566]\n",
      "  [0.36540478 0.87598025 0.39391292]]]\n"
     ]
    }
   ],
   "source": [
    "A2=np.random.rand(3,3,3)\n",
    "print(A2)"
   ]
  },
  {
   "cell_type": "code",
   "execution_count": 11,
   "metadata": {},
   "outputs": [
    {
     "name": "stdout",
     "output_type": "stream",
     "text": [
      "(3, 3, 3)\n"
     ]
    }
   ],
   "source": [
    "(r,c,h) = A1.shape\n",
    "print((r,c,h))"
   ]
  },
  {
   "cell_type": "code",
   "execution_count": 12,
   "metadata": {},
   "outputs": [
    {
     "name": "stdout",
     "output_type": "stream",
     "text": [
      "[[[0.87933185 0.62743831 0.31387261]\n",
      "  [0.86616103 0.20681335 0.66027292]\n",
      "  [0.78660264 1.44306586 1.74741735]]\n",
      "\n",
      " [[0.19711193 0.56210217 0.90690389]\n",
      "  [0.7668271  0.86824916 0.82470497]\n",
      "  [0.55062477 1.42307316 1.82570335]]\n",
      "\n",
      " [[0.99477462 1.50946472 1.2301658 ]\n",
      "  [0.50225645 1.38589266 0.58679332]\n",
      "  [0.38269411 1.2478819  1.14997303]]]\n"
     ]
    }
   ],
   "source": [
    "#Normal addition using \n",
    "B = A1 + A2\n",
    "print(B)"
   ]
  },
  {
   "cell_type": "code",
   "execution_count": 19,
   "metadata": {},
   "outputs": [
    {
     "name": "stdout",
     "output_type": "stream",
     "text": [
      "[[[0.87933185 0.62743831 0.31387261]\n",
      "  [0.86616103 0.20681335 0.66027292]\n",
      "  [0.78660264 1.44306586 1.74741735]]\n",
      "\n",
      " [[0.19711193 0.56210217 0.90690389]\n",
      "  [0.7668271  0.86824916 0.82470497]\n",
      "  [0.55062477 1.42307316 1.82570335]]\n",
      "\n",
      " [[0.99477462 1.50946472 1.2301658 ]\n",
      "  [0.50225645 1.38589266 0.58679332]\n",
      "  [0.38269411 1.2478819  1.14997303]]]\n"
     ]
    }
   ],
   "source": [
    "#Adding two marices using loops\n",
    "B = np.zeros((3,3,3)) #For Optimization , preallocate B\n",
    "for i in range(r):\n",
    "    for j in range(c):\n",
    "        for k in range(h):\n",
    "            B[i,j,k] = A1[i,j,k] + A2[i,j,k];\n",
    "        \n",
    "print(B)"
   ]
  },
  {
   "cell_type": "markdown",
   "metadata": {},
   "source": [
    "<h3> Problem 2: Find if a given 2D point is inside (or) outside a rectangle ? </h3>\n",
    "\n",
    "- Subproblems.\n",
    "\n",
    "- Subproblems --> coding concepts.\n",
    "\n",
    "- putting it all together.\n",
    "\n",
    "\n",
    "Solution : The problem can be solved by taking diagonal points  and checking if the point is greater and lesser than those points"
   ]
  },
  {
   "cell_type": "code",
   "execution_count": 21,
   "metadata": {},
   "outputs": [
    {
     "name": "stdout",
     "output_type": "stream",
     "text": [
      "3.0 4.0\n"
     ]
    }
   ],
   "source": [
    "T1,T2 = map(float,input().split())"
   ]
  },
  {
   "cell_type": "code",
   "execution_count": 31,
   "metadata": {},
   "outputs": [
    {
     "name": "stdout",
     "output_type": "stream",
     "text": [
      "1.0 0.5\n"
     ]
    }
   ],
   "source": [
    "B1,B2 = map(float,input().split())\n"
   ]
  },
  {
   "cell_type": "code",
   "execution_count": 29,
   "metadata": {},
   "outputs": [
    {
     "name": "stdout",
     "output_type": "stream",
     "text": [
      "2.0 1.0\n"
     ]
    }
   ],
   "source": [
    "P1,P2 = map(float,input().split())"
   ]
  },
  {
   "cell_type": "code",
   "execution_count": 32,
   "metadata": {},
   "outputs": [
    {
     "name": "stdout",
     "output_type": "stream",
     "text": [
      "Point is inside rectangle\n"
     ]
    }
   ],
   "source": [
    "if(P1 < T1 and P1 > B1 and P2 < T2 and P2 > B2):\n",
    "    print(\"Point is inside rectangle\");\n",
    "else:\n",
    "    print(\"Point is outside rectangle\");"
   ]
  },
  {
   "cell_type": "markdown",
   "metadata": {},
   "source": [
    "<h3>Problem 3: Take a tensor of size 4x5x6 and convert it into tensor and matrix (10x12) </h3>"
   ]
  },
  {
   "cell_type": "code",
   "execution_count": 34,
   "metadata": {},
   "outputs": [],
   "source": [
    "A = np.random.rand(4,5,6)"
   ]
  },
  {
   "cell_type": "code",
   "execution_count": 35,
   "metadata": {},
   "outputs": [
    {
     "data": {
      "text/plain": [
       "array([0.47219463, 0.77011813, 0.79780426, 0.96675746, 0.31985787,\n",
       "       0.98457491, 0.8487412 , 0.62911815, 0.44782313, 0.26798052,\n",
       "       0.52375972, 0.13529002, 0.05904575, 0.73755813, 0.43875874,\n",
       "       0.75836904, 0.19829925, 0.8755676 , 0.02587522, 0.52316157,\n",
       "       0.78509148, 0.47231776, 0.69695676, 0.12941745, 0.54617827,\n",
       "       0.80076821, 0.97858447, 0.98888685, 0.07436757, 0.36220552,\n",
       "       0.05989002, 0.73132552, 0.89152891, 0.00355648, 0.58652298,\n",
       "       0.76406088, 0.93101985, 0.46969677, 0.21156349, 0.13525484,\n",
       "       0.76347218, 0.97639066, 0.53430716, 0.31081428, 0.83709047,\n",
       "       0.32084827, 0.08586223, 0.66546084, 0.10698437, 0.46045847,\n",
       "       0.05129273, 0.47416142, 0.89106001, 0.23761767, 0.30636239,\n",
       "       0.11740825, 0.38903349, 0.28824348, 0.32024416, 0.79854369,\n",
       "       0.75674351, 0.45179543, 0.22707516, 0.19197558, 0.93782982,\n",
       "       0.78011421, 0.90154048, 0.86906103, 0.35164439, 0.54249186,\n",
       "       0.27055401, 0.07717209, 0.84150196, 0.06609039, 0.10194503,\n",
       "       0.61168691, 0.90178394, 0.9983162 , 0.8004092 , 0.34790208,\n",
       "       0.60335788, 0.33042956, 0.38700769, 0.56710087, 0.67254384,\n",
       "       0.63061318, 0.71830132, 0.29592457, 0.1236693 , 0.56970774,\n",
       "       0.33758685, 0.6728512 , 0.71978572, 0.18903677, 0.33804144,\n",
       "       0.96907513, 0.59869123, 0.9361207 , 0.47894336, 0.69188823,\n",
       "       0.87250326, 0.93926361, 0.04270715, 0.73809411, 0.28743688,\n",
       "       0.36298595, 0.29339928, 0.20851385, 0.34441066, 0.87134413,\n",
       "       0.10405064, 0.10774025, 0.53329062, 0.97170354, 0.88035401,\n",
       "       0.15293926, 0.5262341 , 0.60323825, 0.22355284, 0.71983653])"
      ]
     },
     "execution_count": 35,
     "metadata": {},
     "output_type": "execute_result"
    }
   ],
   "source": [
    "#Converting into 1D array using reshape\n",
    "np.reshape(A,120,'C')"
   ]
  },
  {
   "cell_type": "code",
   "execution_count": 36,
   "metadata": {},
   "outputs": [
    {
     "data": {
      "text/plain": [
       "array([[0.47219463, 0.77011813, 0.79780426, 0.96675746, 0.31985787,\n",
       "        0.98457491, 0.8487412 , 0.62911815, 0.44782313, 0.26798052,\n",
       "        0.52375972, 0.13529002],\n",
       "       [0.05904575, 0.73755813, 0.43875874, 0.75836904, 0.19829925,\n",
       "        0.8755676 , 0.02587522, 0.52316157, 0.78509148, 0.47231776,\n",
       "        0.69695676, 0.12941745],\n",
       "       [0.54617827, 0.80076821, 0.97858447, 0.98888685, 0.07436757,\n",
       "        0.36220552, 0.05989002, 0.73132552, 0.89152891, 0.00355648,\n",
       "        0.58652298, 0.76406088],\n",
       "       [0.93101985, 0.46969677, 0.21156349, 0.13525484, 0.76347218,\n",
       "        0.97639066, 0.53430716, 0.31081428, 0.83709047, 0.32084827,\n",
       "        0.08586223, 0.66546084],\n",
       "       [0.10698437, 0.46045847, 0.05129273, 0.47416142, 0.89106001,\n",
       "        0.23761767, 0.30636239, 0.11740825, 0.38903349, 0.28824348,\n",
       "        0.32024416, 0.79854369],\n",
       "       [0.75674351, 0.45179543, 0.22707516, 0.19197558, 0.93782982,\n",
       "        0.78011421, 0.90154048, 0.86906103, 0.35164439, 0.54249186,\n",
       "        0.27055401, 0.07717209],\n",
       "       [0.84150196, 0.06609039, 0.10194503, 0.61168691, 0.90178394,\n",
       "        0.9983162 , 0.8004092 , 0.34790208, 0.60335788, 0.33042956,\n",
       "        0.38700769, 0.56710087],\n",
       "       [0.67254384, 0.63061318, 0.71830132, 0.29592457, 0.1236693 ,\n",
       "        0.56970774, 0.33758685, 0.6728512 , 0.71978572, 0.18903677,\n",
       "        0.33804144, 0.96907513],\n",
       "       [0.59869123, 0.9361207 , 0.47894336, 0.69188823, 0.87250326,\n",
       "        0.93926361, 0.04270715, 0.73809411, 0.28743688, 0.36298595,\n",
       "        0.29339928, 0.20851385],\n",
       "       [0.34441066, 0.87134413, 0.10405064, 0.10774025, 0.53329062,\n",
       "        0.97170354, 0.88035401, 0.15293926, 0.5262341 , 0.60323825,\n",
       "        0.22355284, 0.71983653]])"
      ]
     },
     "execution_count": 36,
     "metadata": {},
     "output_type": "execute_result"
    }
   ],
   "source": [
    "#Converting it into 2D array of 10X12\n",
    "np.reshape(A,(10,12),'C')"
   ]
  },
  {
   "cell_type": "markdown",
   "metadata": {},
   "source": [
    "### Problem 4: Concatenating matrices using concatenate() function for both 2D and 3D"
   ]
  },
  {
   "cell_type": "code",
   "execution_count": 38,
   "metadata": {},
   "outputs": [
    {
     "name": "stdout",
     "output_type": "stream",
     "text": [
      "[[0.43622808]\n",
      " [0.8119    ]]\n"
     ]
    }
   ],
   "source": [
    "import numpy as np\n",
    "A = np.random.rand(2,1)\n",
    "print(A)"
   ]
  },
  {
   "cell_type": "code",
   "execution_count": 39,
   "metadata": {},
   "outputs": [
    {
     "name": "stdout",
     "output_type": "stream",
     "text": [
      "[[0.0561156  0.4178601 ]\n",
      " [0.03030114 0.75121681]]\n"
     ]
    }
   ],
   "source": [
    "B = np.random.rand(2,2)\n",
    "print(B)"
   ]
  },
  {
   "cell_type": "code",
   "execution_count": 44,
   "metadata": {},
   "outputs": [
    {
     "data": {
      "text/plain": [
       "array([[0.43622808, 0.0561156 , 0.4178601 ],\n",
       "       [0.8119    , 0.03030114, 0.75121681]])"
      ]
     },
     "execution_count": 44,
     "metadata": {},
     "output_type": "execute_result"
    }
   ],
   "source": [
    "np.concatenate((A,B),axis=1) #This is similar to hstack where number of rows must be similar for 2D matrix"
   ]
  },
  {
   "cell_type": "code",
   "execution_count": 45,
   "metadata": {},
   "outputs": [
    {
     "name": "stdout",
     "output_type": "stream",
     "text": [
      "[[0.24260357 0.85479456]\n",
      " [0.54041599 0.30073888]\n",
      " [0.27145668 0.19611752]]\n"
     ]
    }
   ],
   "source": [
    "A = np.random.rand(3,2)\n",
    "print(A)"
   ]
  },
  {
   "cell_type": "code",
   "execution_count": 46,
   "metadata": {},
   "outputs": [
    {
     "name": "stdout",
     "output_type": "stream",
     "text": [
      "[[0.37198899]\n",
      " [0.72813152]]\n"
     ]
    }
   ],
   "source": [
    "B = np.random.rand(2,1)\n",
    "print(B)"
   ]
  },
  {
   "cell_type": "code",
   "execution_count": 48,
   "metadata": {},
   "outputs": [
    {
     "ename": "ValueError",
     "evalue": "all the input array dimensions except for the concatenation axis must match exactly",
     "output_type": "error",
     "traceback": [
      "\u001b[1;31m---------------------------------------------------------------------------\u001b[0m",
      "\u001b[1;31mValueError\u001b[0m                                Traceback (most recent call last)",
      "\u001b[1;32m<ipython-input-48-9ee865c83147>\u001b[0m in \u001b[0;36m<module>\u001b[1;34m\u001b[0m\n\u001b[1;32m----> 1\u001b[1;33m \u001b[0mnp\u001b[0m\u001b[1;33m.\u001b[0m\u001b[0mconcatenate\u001b[0m\u001b[1;33m(\u001b[0m\u001b[1;33m(\u001b[0m\u001b[0mA\u001b[0m\u001b[1;33m,\u001b[0m\u001b[0mB\u001b[0m\u001b[1;33m)\u001b[0m\u001b[1;33m,\u001b[0m\u001b[0maxis\u001b[0m\u001b[1;33m=\u001b[0m\u001b[1;36m0\u001b[0m\u001b[1;33m)\u001b[0m \u001b[1;31m# This is similar to vstack where number of columns must be same for 2D matrix\u001b[0m\u001b[1;33m\u001b[0m\u001b[1;33m\u001b[0m\u001b[0m\n\u001b[0m",
      "\u001b[1;31mValueError\u001b[0m: all the input array dimensions except for the concatenation axis must match exactly"
     ]
    }
   ],
   "source": [
    "np.concatenate((A,B),axis=0) # This is similar to vstack where number of columns must be same for 2D matrix"
   ]
  },
  {
   "cell_type": "code",
   "execution_count": 49,
   "metadata": {},
   "outputs": [
    {
     "name": "stdout",
     "output_type": "stream",
     "text": [
      "[[0.93796889 0.69302407]\n",
      " [0.76130647 0.86058143]\n",
      " [0.8600259  0.88997879]]\n"
     ]
    }
   ],
   "source": [
    "A = np.random.rand(3,2)\n",
    "print(A)"
   ]
  },
  {
   "cell_type": "code",
   "execution_count": 50,
   "metadata": {},
   "outputs": [
    {
     "name": "stdout",
     "output_type": "stream",
     "text": [
      "[[0.07084682 0.8074299 ]\n",
      " [0.67135212 0.21418026]]\n"
     ]
    }
   ],
   "source": [
    "B = np.random.rand(2,2)\n",
    "print(B)"
   ]
  },
  {
   "cell_type": "code",
   "execution_count": 51,
   "metadata": {},
   "outputs": [
    {
     "data": {
      "text/plain": [
       "array([[0.93796889, 0.69302407],\n",
       "       [0.76130647, 0.86058143],\n",
       "       [0.8600259 , 0.88997879],\n",
       "       [0.07084682, 0.8074299 ],\n",
       "       [0.67135212, 0.21418026]])"
      ]
     },
     "execution_count": 51,
     "metadata": {},
     "output_type": "execute_result"
    }
   ],
   "source": [
    "np.concatenate((A,B),axis=0) # This is similar to vstack where number of columns must be same for 2D matrix"
   ]
  },
  {
   "cell_type": "code",
   "execution_count": 52,
   "metadata": {},
   "outputs": [
    {
     "name": "stdout",
     "output_type": "stream",
     "text": [
      "[[[0.68268247 0.24629814 0.79225905]\n",
      "  [0.7272486  0.59895671 0.60492927]]\n",
      "\n",
      " [[0.78180182 0.60459396 0.13598849]\n",
      "  [0.26822237 0.92351169 0.64382495]]\n",
      "\n",
      " [[0.27315582 0.71741099 0.58210626]\n",
      "  [0.48224219 0.08410569 0.90234056]]]\n"
     ]
    }
   ],
   "source": [
    "#For 3D matrix (h,w,d)\n",
    "A = np.random.rand(3,2,3)\n",
    "print(A)"
   ]
  },
  {
   "cell_type": "code",
   "execution_count": 53,
   "metadata": {},
   "outputs": [
    {
     "name": "stdout",
     "output_type": "stream",
     "text": [
      "[[[0.68268247 0.24629814 0.79225905]\n",
      "  [0.7272486  0.59895671 0.60492927]]\n",
      "\n",
      " [[0.78180182 0.60459396 0.13598849]\n",
      "  [0.26822237 0.92351169 0.64382495]]\n",
      "\n",
      " [[0.27315582 0.71741099 0.58210626]\n",
      "  [0.48224219 0.08410569 0.90234056]]]\n"
     ]
    }
   ],
   "source": [
    "B = np.random.rand(3,4,3)\n",
    "print(A)"
   ]
  },
  {
   "cell_type": "code",
   "execution_count": 54,
   "metadata": {},
   "outputs": [
    {
     "data": {
      "text/plain": [
       "array([[[0.68268247, 0.24629814, 0.79225905],\n",
       "        [0.7272486 , 0.59895671, 0.60492927],\n",
       "        [0.8668409 , 0.38071195, 0.97257077],\n",
       "        [0.34176256, 0.69064406, 0.1063275 ],\n",
       "        [0.48141942, 0.68215095, 0.97578604],\n",
       "        [0.83145175, 0.58163067, 0.09843516]],\n",
       "\n",
       "       [[0.78180182, 0.60459396, 0.13598849],\n",
       "        [0.26822237, 0.92351169, 0.64382495],\n",
       "        [0.91903358, 0.39318429, 0.49796305],\n",
       "        [0.63706948, 0.8370464 , 0.64034421],\n",
       "        [0.34128924, 0.3674022 , 0.25047794],\n",
       "        [0.82386873, 0.32642988, 0.61490544]],\n",
       "\n",
       "       [[0.27315582, 0.71741099, 0.58210626],\n",
       "        [0.48224219, 0.08410569, 0.90234056],\n",
       "        [0.4750905 , 0.86861589, 0.9393686 ],\n",
       "        [0.02963222, 0.01843054, 0.62667294],\n",
       "        [0.67800848, 0.89064584, 0.08456083],\n",
       "        [0.30334048, 0.50486082, 0.41288044]]])"
      ]
     },
     "execution_count": 54,
     "metadata": {},
     "output_type": "execute_result"
    }
   ],
   "source": [
    "#This is similar to hstack here the height and depth must be same for both 3D matrices\n",
    "np.concatenate((A,B),axis = 1) \n"
   ]
  },
  {
   "cell_type": "code",
   "execution_count": 55,
   "metadata": {},
   "outputs": [
    {
     "name": "stdout",
     "output_type": "stream",
     "text": [
      "[[[0.01244696 0.55772029 0.73982675]\n",
      "  [0.97255768 0.23076901 0.16237076]]\n",
      "\n",
      " [[0.6108433  0.57455752 0.84444958]\n",
      "  [0.4495717  0.48970398 0.07152533]]\n",
      "\n",
      " [[0.70573645 0.57685409 0.50719093]\n",
      "  [0.1078994  0.01819171 0.65830177]]]\n"
     ]
    }
   ],
   "source": [
    "A = np.random.rand(3,2,3)\n",
    "print(A)"
   ]
  },
  {
   "cell_type": "code",
   "execution_count": 56,
   "metadata": {},
   "outputs": [
    {
     "name": "stdout",
     "output_type": "stream",
     "text": [
      "[[[0.29562232 0.51714465 0.075093  ]\n",
      "  [0.99332271 0.77678343 0.14480375]]\n",
      "\n",
      " [[0.42932937 0.57987884 0.23316482]\n",
      "  [0.71434551 0.32962104 0.61600406]]\n",
      "\n",
      " [[0.92269291 0.71003447 0.16287264]\n",
      "  [0.10957546 0.24616313 0.33467137]]\n",
      "\n",
      " [[0.75073987 0.72727018 0.90617885]\n",
      "  [0.62700417 0.80086708 0.66410709]]]\n"
     ]
    }
   ],
   "source": [
    "B = np.random.rand(4,2,3)\n",
    "print(B)"
   ]
  },
  {
   "cell_type": "code",
   "execution_count": 57,
   "metadata": {},
   "outputs": [
    {
     "data": {
      "text/plain": [
       "array([[[0.01244696, 0.55772029, 0.73982675],\n",
       "        [0.97255768, 0.23076901, 0.16237076]],\n",
       "\n",
       "       [[0.6108433 , 0.57455752, 0.84444958],\n",
       "        [0.4495717 , 0.48970398, 0.07152533]],\n",
       "\n",
       "       [[0.70573645, 0.57685409, 0.50719093],\n",
       "        [0.1078994 , 0.01819171, 0.65830177]],\n",
       "\n",
       "       [[0.29562232, 0.51714465, 0.075093  ],\n",
       "        [0.99332271, 0.77678343, 0.14480375]],\n",
       "\n",
       "       [[0.42932937, 0.57987884, 0.23316482],\n",
       "        [0.71434551, 0.32962104, 0.61600406]],\n",
       "\n",
       "       [[0.92269291, 0.71003447, 0.16287264],\n",
       "        [0.10957546, 0.24616313, 0.33467137]],\n",
       "\n",
       "       [[0.75073987, 0.72727018, 0.90617885],\n",
       "        [0.62700417, 0.80086708, 0.66410709]]])"
      ]
     },
     "execution_count": 57,
     "metadata": {},
     "output_type": "execute_result"
    }
   ],
   "source": [
    "np.concatenate((A,B),axis = 0) #This is similar to vstack where the width and depth must be similar for 3D matrices"
   ]
  },
  {
   "cell_type": "markdown",
   "metadata": {},
   "source": [
    "### Write a NumPy program to get the numpy version and show numpy build configuration."
   ]
  },
  {
   "cell_type": "code",
   "execution_count": 63,
   "metadata": {},
   "outputs": [
    {
     "name": "stdout",
     "output_type": "stream",
     "text": [
      "1.16.2\n",
      "mkl_info:\n",
      "    libraries = ['mkl_rt']\n",
      "    library_dirs = ['C:/Users/VLakshmiSusmitha/Anaconda3\\\\Library\\\\lib']\n",
      "    define_macros = [('SCIPY_MKL_H', None), ('HAVE_CBLAS', None)]\n",
      "    include_dirs = ['C:\\\\Program Files (x86)\\\\IntelSWTools\\\\compilers_and_libraries_2019.0.117\\\\windows\\\\mkl', 'C:\\\\Program Files (x86)\\\\IntelSWTools\\\\compilers_and_libraries_2019.0.117\\\\windows\\\\mkl\\\\include', 'C:\\\\Program Files (x86)\\\\IntelSWTools\\\\compilers_and_libraries_2019.0.117\\\\windows\\\\mkl\\\\lib', 'C:/Users/VLakshmiSusmitha/Anaconda3\\\\Library\\\\include']\n",
      "blas_mkl_info:\n",
      "    libraries = ['mkl_rt']\n",
      "    library_dirs = ['C:/Users/VLakshmiSusmitha/Anaconda3\\\\Library\\\\lib']\n",
      "    define_macros = [('SCIPY_MKL_H', None), ('HAVE_CBLAS', None)]\n",
      "    include_dirs = ['C:\\\\Program Files (x86)\\\\IntelSWTools\\\\compilers_and_libraries_2019.0.117\\\\windows\\\\mkl', 'C:\\\\Program Files (x86)\\\\IntelSWTools\\\\compilers_and_libraries_2019.0.117\\\\windows\\\\mkl\\\\include', 'C:\\\\Program Files (x86)\\\\IntelSWTools\\\\compilers_and_libraries_2019.0.117\\\\windows\\\\mkl\\\\lib', 'C:/Users/VLakshmiSusmitha/Anaconda3\\\\Library\\\\include']\n",
      "blas_opt_info:\n",
      "    libraries = ['mkl_rt']\n",
      "    library_dirs = ['C:/Users/VLakshmiSusmitha/Anaconda3\\\\Library\\\\lib']\n",
      "    define_macros = [('SCIPY_MKL_H', None), ('HAVE_CBLAS', None)]\n",
      "    include_dirs = ['C:\\\\Program Files (x86)\\\\IntelSWTools\\\\compilers_and_libraries_2019.0.117\\\\windows\\\\mkl', 'C:\\\\Program Files (x86)\\\\IntelSWTools\\\\compilers_and_libraries_2019.0.117\\\\windows\\\\mkl\\\\include', 'C:\\\\Program Files (x86)\\\\IntelSWTools\\\\compilers_and_libraries_2019.0.117\\\\windows\\\\mkl\\\\lib', 'C:/Users/VLakshmiSusmitha/Anaconda3\\\\Library\\\\include']\n",
      "lapack_mkl_info:\n",
      "    libraries = ['mkl_rt']\n",
      "    library_dirs = ['C:/Users/VLakshmiSusmitha/Anaconda3\\\\Library\\\\lib']\n",
      "    define_macros = [('SCIPY_MKL_H', None), ('HAVE_CBLAS', None)]\n",
      "    include_dirs = ['C:\\\\Program Files (x86)\\\\IntelSWTools\\\\compilers_and_libraries_2019.0.117\\\\windows\\\\mkl', 'C:\\\\Program Files (x86)\\\\IntelSWTools\\\\compilers_and_libraries_2019.0.117\\\\windows\\\\mkl\\\\include', 'C:\\\\Program Files (x86)\\\\IntelSWTools\\\\compilers_and_libraries_2019.0.117\\\\windows\\\\mkl\\\\lib', 'C:/Users/VLakshmiSusmitha/Anaconda3\\\\Library\\\\include']\n",
      "lapack_opt_info:\n",
      "    libraries = ['mkl_rt']\n",
      "    library_dirs = ['C:/Users/VLakshmiSusmitha/Anaconda3\\\\Library\\\\lib']\n",
      "    define_macros = [('SCIPY_MKL_H', None), ('HAVE_CBLAS', None)]\n",
      "    include_dirs = ['C:\\\\Program Files (x86)\\\\IntelSWTools\\\\compilers_and_libraries_2019.0.117\\\\windows\\\\mkl', 'C:\\\\Program Files (x86)\\\\IntelSWTools\\\\compilers_and_libraries_2019.0.117\\\\windows\\\\mkl\\\\include', 'C:\\\\Program Files (x86)\\\\IntelSWTools\\\\compilers_and_libraries_2019.0.117\\\\windows\\\\mkl\\\\lib', 'C:/Users/VLakshmiSusmitha/Anaconda3\\\\Library\\\\include']\n",
      "None\n"
     ]
    }
   ],
   "source": [
    "import numpy as np\n",
    "print(np.__version__) \n",
    "print(np.show_config())"
   ]
  },
  {
   "cell_type": "markdown",
   "metadata": {},
   "source": [
    "<h3>Write a NumPy program to  get help on the add function</h3>"
   ]
  },
  {
   "cell_type": "code",
   "execution_count": 66,
   "metadata": {},
   "outputs": [
    {
     "name": "stdout",
     "output_type": "stream",
     "text": [
      "add(x1, x2, /, out=None, *, where=True, casting='same_kind', order='K', dtype=None, subok=True[, signature, extobj])\n",
      "\n",
      "Add arguments element-wise.\n",
      "\n",
      "Parameters\n",
      "----------\n",
      "x1, x2 : array_like\n",
      "    The arrays to be added.  If ``x1.shape != x2.shape``, they must be\n",
      "    broadcastable to a common shape (which may be the shape of one or\n",
      "    the other).\n",
      "out : ndarray, None, or tuple of ndarray and None, optional\n",
      "    A location into which the result is stored. If provided, it must have\n",
      "    a shape that the inputs broadcast to. If not provided or `None`,\n",
      "    a freshly-allocated array is returned. A tuple (possible only as a\n",
      "    keyword argument) must have length equal to the number of outputs.\n",
      "where : array_like, optional\n",
      "    Values of True indicate to calculate the ufunc at that position, values\n",
      "    of False indicate to leave the value in the output alone.\n",
      "**kwargs\n",
      "    For other keyword-only arguments, see the\n",
      "    :ref:`ufunc docs <ufuncs.kwargs>`.\n",
      "\n",
      "Returns\n",
      "-------\n",
      "add : ndarray or scalar\n",
      "    The sum of `x1` and `x2`, element-wise.\n",
      "    This is a scalar if both `x1` and `x2` are scalars.\n",
      "\n",
      "Notes\n",
      "-----\n",
      "Equivalent to `x1` + `x2` in terms of array broadcasting.\n",
      "\n",
      "Examples\n",
      "--------\n",
      ">>> np.add(1.0, 4.0)\n",
      "5.0\n",
      ">>> x1 = np.arange(9.0).reshape((3, 3))\n",
      ">>> x2 = np.arange(3.0)\n",
      ">>> np.add(x1, x2)\n",
      "array([[  0.,   2.,   4.],\n",
      "       [  3.,   5.,   7.],\n",
      "       [  6.,   8.,  10.]])\n",
      "None\n"
     ]
    }
   ],
   "source": [
    "import numpy as np\n",
    "print(np.info(np.add))"
   ]
  },
  {
   "cell_type": "markdown",
   "metadata": {},
   "source": [
    "<h3>Write a NumPy program to test whether none of the elements of a given array is zero</h3>"
   ]
  },
  {
   "cell_type": "code",
   "execution_count": 67,
   "metadata": {},
   "outputs": [
    {
     "name": "stdout",
     "output_type": "stream",
     "text": [
      "[1 8 7 4 2 3]\n",
      "True\n"
     ]
    }
   ],
   "source": [
    "import numpy as np\n",
    "A = np.array([1,8,7,4,2,3])\n",
    "print(A)\n",
    "print(np.all(A)) #Return true if the array has all nonzero elements"
   ]
  },
  {
   "cell_type": "code",
   "execution_count": 74,
   "metadata": {},
   "outputs": [
    {
     "name": "stdout",
     "output_type": "stream",
     "text": [
      "[0 8 7 4 2 3]\n",
      "False\n"
     ]
    }
   ],
   "source": [
    "B = np.array([0,8,7,4,2,3])\n",
    "print(B)\n",
    "print(np.all(B)) #Return false if the array has all nonzero elements"
   ]
  },
  {
   "cell_type": "markdown",
   "metadata": {},
   "source": [
    "### Test a given array element-wise for finiteness (not infinity or not a Number)"
   ]
  },
  {
   "cell_type": "code",
   "execution_count": 76,
   "metadata": {},
   "outputs": [
    {
     "name": "stdout",
     "output_type": "stream",
     "text": [
      "[ 1.  6. nan]\n"
     ]
    }
   ],
   "source": [
    "import numpy as np\n",
    "A = np.array([1,6,np.nan])\n",
    "print(A)"
   ]
  },
  {
   "cell_type": "code",
   "execution_count": 79,
   "metadata": {},
   "outputs": [
    {
     "name": "stdout",
     "output_type": "stream",
     "text": [
      "[ True  True False]\n"
     ]
    }
   ],
   "source": [
    "print(np.isfinite(A))"
   ]
  },
  {
   "cell_type": "code",
   "execution_count": 78,
   "metadata": {},
   "outputs": [
    {
     "name": "stdout",
     "output_type": "stream",
     "text": [
      "[ 1.  6. nan inf]\n"
     ]
    }
   ],
   "source": [
    "B = np.array([1,6,np.nan,np.inf])\n",
    "print(B)"
   ]
  },
  {
   "cell_type": "code",
   "execution_count": 80,
   "metadata": {},
   "outputs": [
    {
     "name": "stdout",
     "output_type": "stream",
     "text": [
      "[ True  True False False]\n"
     ]
    }
   ],
   "source": [
    "print(np.isfinite(B))"
   ]
  },
  {
   "cell_type": "markdown",
   "metadata": {},
   "source": [
    "<h3>Write a NumPy program to test element-wise for positive or negative infinity</h3>"
   ]
  },
  {
   "cell_type": "code",
   "execution_count": 81,
   "metadata": {},
   "outputs": [
    {
     "data": {
      "text/plain": [
       "array([ True,  True, False, False])"
      ]
     },
     "execution_count": 81,
     "metadata": {},
     "output_type": "execute_result"
    }
   ],
   "source": [
    "np.isinf([np.inf, -np.inf, 1.0, np.nan])"
   ]
  },
  {
   "cell_type": "markdown",
   "metadata": {},
   "source": [
    "<h3>Write a NumPy program to test element-wise for NaN of a given array.</h3>"
   ]
  },
  {
   "cell_type": "code",
   "execution_count": 83,
   "metadata": {},
   "outputs": [
    {
     "data": {
      "text/plain": [
       "array([ True, False, False])"
      ]
     },
     "execution_count": 83,
     "metadata": {},
     "output_type": "execute_result"
    }
   ],
   "source": [
    "np.isnan([np.nan,1,2])"
   ]
  },
  {
   "cell_type": "markdown",
   "metadata": {},
   "source": [
    "<h3>Write a NumPy program to test element-wise for complex number, real number of a given array. Also test whether a given number is a scalar type or not.</h3>"
   ]
  },
  {
   "cell_type": "code",
   "execution_count": 89,
   "metadata": {},
   "outputs": [
    {
     "data": {
      "text/plain": [
       "array([ True, False, False, False, False,  True])"
      ]
     },
     "execution_count": 89,
     "metadata": {},
     "output_type": "execute_result"
    }
   ],
   "source": [
    "np.iscomplex([1+1j, 1+0j, 4.5, 3, 2, 2j])"
   ]
  },
  {
   "cell_type": "code",
   "execution_count": 90,
   "metadata": {},
   "outputs": [
    {
     "data": {
      "text/plain": [
       "array([False,  True,  True,  True,  True, False])"
      ]
     },
     "execution_count": 90,
     "metadata": {},
     "output_type": "execute_result"
    }
   ],
   "source": [
    "np.isreal([1+1j, 1+0j, 4.5, 3, 2, 2j])"
   ]
  },
  {
   "cell_type": "code",
   "execution_count": 91,
   "metadata": {},
   "outputs": [
    {
     "data": {
      "text/plain": [
       "True"
      ]
     },
     "execution_count": 91,
     "metadata": {},
     "output_type": "execute_result"
    }
   ],
   "source": [
    "np.isscalar('numpy')"
   ]
  },
  {
   "cell_type": "markdown",
   "metadata": {},
   "source": [
    "<h3>Write a NumPy program to create an array of the integers from 30 to70</h3>"
   ]
  },
  {
   "cell_type": "code",
   "execution_count": 96,
   "metadata": {},
   "outputs": [
    {
     "name": "stdout",
     "output_type": "stream",
     "text": [
      "[30 31 32 33 34 35 36 37 38 39 40 41 42 43 44 45 46 47 48 49 50 51 52 53\n",
      " 54 55 56 57 58 59 60 61 62 63 64 65 66 67 68 69 70]\n"
     ]
    }
   ],
   "source": [
    "A = np.arange(30,71)\n",
    "print(A)"
   ]
  },
  {
   "cell_type": "markdown",
   "metadata": {},
   "source": [
    "<h3> Write a NumPy program to create an array of all the even integers from 30 to 70</h3>"
   ]
  },
  {
   "cell_type": "code",
   "execution_count": 98,
   "metadata": {},
   "outputs": [
    {
     "name": "stdout",
     "output_type": "stream",
     "text": [
      "[30 32 34 36 38 40 42 44 46 48 50 52 54 56 58 60 62 64 66 68 70]\n"
     ]
    }
   ],
   "source": [
    "B = np.arange(30,71,2)\n",
    "print(B)"
   ]
  },
  {
   "cell_type": "markdown",
   "metadata": {},
   "source": [
    "<h3>Write a NumPy program to create a 3x3 identity matrix</h3>"
   ]
  },
  {
   "cell_type": "code",
   "execution_count": 99,
   "metadata": {},
   "outputs": [
    {
     "name": "stdout",
     "output_type": "stream",
     "text": [
      "[[1. 0. 0.]\n",
      " [0. 1. 0.]\n",
      " [0. 0. 1.]]\n"
     ]
    }
   ],
   "source": [
    "C =  np.identity(3)\n",
    "print(C)"
   ]
  },
  {
   "cell_type": "markdown",
   "metadata": {},
   "source": [
    "### Python program to add two numbers"
   ]
  },
  {
   "cell_type": "code",
   "execution_count": 100,
   "metadata": {},
   "outputs": [
    {
     "name": "stdout",
     "output_type": "stream",
     "text": [
      "3 4\n",
      "7\n"
     ]
    }
   ],
   "source": [
    "m,n = map(int,input().split())\n",
    "print(m+n)"
   ]
  },
  {
   "cell_type": "markdown",
   "metadata": {},
   "source": [
    "<h3>Reversal of String </h3>"
   ]
  },
  {
   "cell_type": "code",
   "execution_count": 4,
   "metadata": {},
   "outputs": [],
   "source": [
    "B = ['r','o','m','e','i','n','e','u','m']"
   ]
  },
  {
   "cell_type": "code",
   "execution_count": 9,
   "metadata": {},
   "outputs": [
    {
     "data": {
      "text/plain": [
       "['m', 'u', 'e', 'n', 'i', 'e', 'm', 'o', 'r']"
      ]
     },
     "execution_count": 9,
     "metadata": {},
     "output_type": "execute_result"
    }
   ],
   "source": [
    "B[::-1]"
   ]
  },
  {
   "cell_type": "code",
   "execution_count": null,
   "metadata": {},
   "outputs": [],
   "source": []
  },
  {
   "cell_type": "code",
   "execution_count": null,
   "metadata": {},
   "outputs": [],
   "source": []
  },
  {
   "cell_type": "code",
   "execution_count": null,
   "metadata": {},
   "outputs": [],
   "source": []
  }
 ],
 "metadata": {
  "kernelspec": {
   "display_name": "Python 3",
   "language": "python",
   "name": "python3"
  },
  "language_info": {
   "codemirror_mode": {
    "name": "ipython",
    "version": 3
   },
   "file_extension": ".py",
   "mimetype": "text/x-python",
   "name": "python",
   "nbconvert_exporter": "python",
   "pygments_lexer": "ipython3",
   "version": "3.7.3"
  }
 },
 "nbformat": 4,
 "nbformat_minor": 2
}
